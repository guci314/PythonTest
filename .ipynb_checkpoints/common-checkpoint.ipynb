{
 "cells": [
  {
   "cell_type": "code",
   "execution_count": 1,
   "metadata": {
    "collapsed": true
   },
   "outputs": [],
   "source": [
    "def test():\n",
    "    return \"hello world qqqq\"\n",
    "def getContainerIp(name):\n",
    "    import shlex,subprocess\n",
    "    cmd=\"docker inspect --format=\\\"{{.NetworkSettings.IPAddress}}\\\" \"+name\n",
    "    cmd=shlex.split(cmd)\n",
    "    p = subprocess.Popen(cmd,stdout=subprocess.PIPE)\n",
    "    return p.stdout.readlines()[0]"
   ]
  }
 ],
 "metadata": {
  "kernelspec": {
   "display_name": "Python 2",
   "language": "python",
   "name": "python2"
  },
  "language_info": {
   "codemirror_mode": {
    "name": "ipython",
    "version": 2
   },
   "file_extension": ".py",
   "mimetype": "text/x-python",
   "name": "python",
   "nbconvert_exporter": "python",
   "pygments_lexer": "ipython2",
   "version": "2.7.10"
  }
 },
 "nbformat": 4,
 "nbformat_minor": 0
}
