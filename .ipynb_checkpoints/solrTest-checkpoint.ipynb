{
 "cells": [
  {
   "cell_type": "code",
   "execution_count": 35,
   "metadata": {
    "scrolled": true
   },
   "outputs": [
    {
     "name": "stdout",
     "output_type": "stream",
     "text": [
      "http://localhost:8983/solr\n"
     ]
    }
   ],
   "source": [
    "from SolrClient import SolrClient\n",
    "solr = SolrClient('http://localhost:8983/solr')\n",
    "res = solr.query('test',{'q':'*','fl':'id,suffix'})\n",
    "class MySolr(SolrClient):\n",
    "    def func(self):\n",
    "        print(self.host)\n",
    "\n"
   ]
  },
  {
   "cell_type": "code",
   "execution_count": 19,
   "metadata": {},
   "outputs": [
    {
     "data": {
      "text/plain": [
       "True"
      ]
     },
     "execution_count": 19,
     "metadata": {},
     "output_type": "execute_result"
    }
   ],
   "source": [
    "docs = [{'id':'changeme2','field1':'value1'}, {'id':'changeme3','field2':'value2'}]\n",
    "for i in range(100):\n",
    "    name=\"name{}\".format(i)\n",
    "    docs.append({'id':name,'field1':'value1'})\n",
    "params={}\n",
    "params[\"commit\"]=True\n",
    "solr.index('test', docs,params=params)"
   ]
  },
  {
   "cell_type": "code",
   "execution_count": null,
   "metadata": {},
   "outputs": [],
   "source": [
    "for res in solr.cursor_query('test',{'q':'*:*','fl':'id'}):\n",
    "    for doc in res.docs:\n",
    "        print(doc)"
   ]
  },
  {
   "cell_type": "code",
   "execution_count": 37,
   "metadata": {},
   "outputs": [
    {
     "name": "stdout",
     "output_type": "stream",
     "text": [
      "http://localhost:8983/solr\n"
     ]
    }
   ],
   "source": [
    "mysolr = MySolr('http://localhost:8983/solr')\n",
    "mysolr.func()"
   ]
  },
  {
   "cell_type": "code",
   "execution_count": 49,
   "metadata": {},
   "outputs": [
    {
     "name": "stdout",
     "output_type": "stream",
     "text": [
      "Overwriting solrApi.py\n"
     ]
    }
   ],
   "source": [
    "%%writefile solrApi.py\n",
    "from SolrClient import SolrClient\n",
    "import requests\n",
    "class SolrApi(SolrClient):\n",
    "    def func(self):\n",
    "        print(self.host)\n",
    "    def postFile(self,collection,file):\n",
    "        posturl = self.host+\"/\"+collection+\"/update/extract\"\n",
    "        p={}\n",
    "        p[\"commit\"]=\"true\"\n",
    "        p[\"literal.id\"]=file\n",
    "        p[\"literal.attr_resourcename\"]=file\n",
    "        #p[\"literal.ext\"]=suffix\n",
    "        try:\n",
    "            payload = open(file, \"rb\").read()\n",
    "            r = requests.post(posturl, data=payload, params=p)\n",
    "            return r\n",
    "        except e:\n",
    "            print(e)\n"
   ]
  },
  {
   "cell_type": "code",
   "execution_count": 51,
   "metadata": {},
   "outputs": [
    {
     "ename": "NameError",
     "evalue": "name 'e' is not defined",
     "output_type": "error",
     "traceback": [
      "\u001b[0;31m---------------------------------------------------------------------------\u001b[0m",
      "\u001b[0;31mNameError\u001b[0m                                 Traceback (most recent call last)",
      "\u001b[0;32m~/projects/PythonTest/solrApi.py\u001b[0m in \u001b[0;36mpostFile\u001b[0;34m(self, collection, file)\u001b[0m\n",
      "\u001b[0;31mNameError\u001b[0m: name 'url' is not defined",
      "\nDuring handling of the above exception, another exception occurred:\n",
      "\u001b[0;31mNameError\u001b[0m                                 Traceback (most recent call last)",
      "\u001b[0;32m<ipython-input-51-9107d59da9c2>\u001b[0m in \u001b[0;36m<module>\u001b[0;34m\u001b[0m\n\u001b[1;32m      3\u001b[0m \u001b[0;32mfrom\u001b[0m \u001b[0msolrApi\u001b[0m \u001b[0;32mimport\u001b[0m \u001b[0mSolrApi\u001b[0m\u001b[0;34m\u001b[0m\u001b[0;34m\u001b[0m\u001b[0m\n\u001b[1;32m      4\u001b[0m \u001b[0mmysolr1\u001b[0m \u001b[0;34m=\u001b[0m \u001b[0mSolrApi\u001b[0m\u001b[0;34m(\u001b[0m\u001b[0;34m'http://localhost:8983/solr'\u001b[0m\u001b[0;34m)\u001b[0m\u001b[0;34m\u001b[0m\u001b[0;34m\u001b[0m\u001b[0m\n\u001b[0;32m----> 5\u001b[0;31m \u001b[0mr\u001b[0m\u001b[0;34m=\u001b[0m\u001b[0mmysolr1\u001b[0m\u001b[0;34m.\u001b[0m\u001b[0mpostFile\u001b[0m\u001b[0;34m(\u001b[0m\u001b[0;34m\"test\"\u001b[0m\u001b[0;34m,\u001b[0m\u001b[0;34m\"/home/guci/app/solr-8.0.0/README.txt\"\u001b[0m\u001b[0;34m)\u001b[0m\u001b[0;34m\u001b[0m\u001b[0;34m\u001b[0m\u001b[0m\n\u001b[0m\u001b[1;32m      6\u001b[0m \u001b[0mprint\u001b[0m\u001b[0;34m(\u001b[0m\u001b[0mr\u001b[0m\u001b[0;34m)\u001b[0m\u001b[0;34m\u001b[0m\u001b[0;34m\u001b[0m\u001b[0m\n",
      "\u001b[0;32m~/projects/PythonTest/solrApi.py\u001b[0m in \u001b[0;36mpostFile\u001b[0;34m(self, collection, file)\u001b[0m\n",
      "\u001b[0;31mNameError\u001b[0m: name 'e' is not defined"
     ]
    }
   ],
   "source": [
    "import os\n",
    "os.remove('solrApi.py')   \n",
    "from solrApi import SolrApi\n",
    "mysolr1 = SolrApi('http://localhost:8983/solr')\n",
    "r=mysolr1.postFile(\"test\",\"/home/guci/app/solr-8.0.0/README.txt\")\n",
    "print(r)"
   ]
  }
 ],
 "metadata": {
  "kernelspec": {
   "display_name": "Python 3",
   "language": "python",
   "name": "python3"
  },
  "language_info": {
   "codemirror_mode": {
    "name": "ipython",
    "version": 3
   },
   "file_extension": ".py",
   "mimetype": "text/x-python",
   "name": "python",
   "nbconvert_exporter": "python",
   "pygments_lexer": "ipython3",
   "version": "3.7.3"
  },
  "varInspector": {
   "cols": {
    "lenName": 16,
    "lenType": 16,
    "lenVar": 40
   },
   "kernels_config": {
    "python": {
     "delete_cmd_postfix": "",
     "delete_cmd_prefix": "del ",
     "library": "var_list.py",
     "varRefreshCmd": "print(var_dic_list())"
    },
    "r": {
     "delete_cmd_postfix": ") ",
     "delete_cmd_prefix": "rm(",
     "library": "var_list.r",
     "varRefreshCmd": "cat(var_dic_list()) "
    }
   },
   "types_to_exclude": [
    "module",
    "function",
    "builtin_function_or_method",
    "instance",
    "_Feature"
   ],
   "window_display": false
  }
 },
 "nbformat": 4,
 "nbformat_minor": 2
}
