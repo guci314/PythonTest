{
 "cells": [
  {
   "cell_type": "code",
   "execution_count": 1,
   "metadata": {
    "hide_input": true
   },
   "outputs": [
    {
     "name": "stdout",
     "output_type": "stream",
     "text": [
      "11\n"
     ]
    }
   ],
   "source": [
    "import subprocess\n",
    "\n",
    "#x=subprocess.Popen('ls -l',shell=True,stdout=subprocess.PIPE)\n",
    "#y=x.stdout.readlines()\n",
    "#for z in y:\n",
    "#    print z\n",
    "def func(para1,para2):\n",
    "    return para1+para2\n",
    "\n",
    "class Animal:\n",
    "    name=''\n",
    "    age=''\n",
    "    def test(x,p):\n",
    "        return p\n",
    "    \n",
    "def aaa(x,p):\n",
    "    return p+1\n",
    "Animal.aaa=aaa\n",
    "\n",
    "\n",
    "a=Animal()\n",
    "print a.aaa(10)\n",
    "\n",
    "?"
   ]
  },
  {
   "cell_type": "code",
   "execution_count": 22,
   "metadata": {},
   "outputs": [],
   "source": [
    "?"
   ]
  },
  {
   "cell_type": "code",
   "execution_count": 23,
   "metadata": {
    "hide_input": false
   },
   "outputs": [],
   "source": [
    "%quickref"
   ]
  },
  {
   "cell_type": "code",
   "execution_count": 49,
   "metadata": {},
   "outputs": [
    {
     "name": "stdout",
     "output_type": "stream",
     "text": [
      "[' 4926 ?        00:07:01 java']\n"
     ]
    }
   ],
   "source": [
    "x=!ps -e | grep java\n",
    "print x"
   ]
  },
  {
   "cell_type": "code",
   "execution_count": 40,
   "metadata": {},
   "outputs": [
    {
     "name": "stdout",
     "output_type": "stream",
     "text": [
      "[sudo] password for guci: # Docker Upstart and SysVinit configuration file\r\n",
      "\r\n",
      "# Customize location of Docker binary (especially for development testing).\r\n",
      "#DOCKER=\"/usr/local/bin/docker\"\r\n",
      "\r\n",
      "# Use DOCKER_OPTS to modify the daemon startup options.\r\n",
      "#DOCKER_OPTS=\"--dns 8.8.8.8 --dns 8.8.4.4\"\r\n",
      "#DOCKER_OPTS=\"--registry-mirror=http://guci.m.daocloud.io -d\"\r\n",
      "\r\n",
      "# If you need Docker to use an HTTP proxy, it can also be specified here.\r\n",
      "export http_proxy=\"http://127.0.0.1:8118\"\r\n",
      "#export http_proxy=\"http://127.0.0.1:8787\"\r\n",
      "\r\n",
      "# This is also a handy place to tweak where Docker's temporary files go.\r\n",
      "#export TMPDIR=\"/mnt/bigdrive/docker-tmp\"\r\n"
     ]
    }
   ],
   "source": [
    "!echo 1 | sudo -S cat /etc/default/docker"
   ]
  },
  {
   "cell_type": "code",
   "execution_count": 11,
   "metadata": {},
   "outputs": [
    {
     "name": "stdout",
     "output_type": "stream",
     "text": [
      "dfdfdf\n"
     ]
    }
   ],
   "source": [
    "from typing import TypeVar\n",
    "class A:\n",
    "    def f(self):\n",
    "        print(\"dfdfdf\")\n",
    "    def f1(self):\n",
    "        print(\"xxxxxxxx\")\n",
    "a=A()\n",
    "a.f()"
   ]
  },
  {
   "cell_type": "code",
   "execution_count": 12,
   "metadata": {},
   "outputs": [
    {
     "ename": "TypeError",
     "evalue": "'type' object is not subscriptable",
     "output_type": "error",
     "traceback": [
      "\u001b[0;31m---------------------------------------------------------------------------\u001b[0m",
      "\u001b[0;31mTypeError\u001b[0m                                 Traceback (most recent call last)",
      "\u001b[0;32m<ipython-input-12-7ba16df87d33>\u001b[0m in \u001b[0;36m<module>\u001b[0;34m\u001b[0m\n\u001b[0;32m----> 1\u001b[0;31m \u001b[0mb\u001b[0m\u001b[0;34m:\u001b[0m\u001b[0mTypeVar\u001b[0m\u001b[0;34m[\u001b[0m\u001b[0mA\u001b[0m\u001b[0;34m]\u001b[0m\u001b[0;34m=\u001b[0m\u001b[0mA\u001b[0m\u001b[0;34m(\u001b[0m\u001b[0;34m)\u001b[0m \u001b[0;31m# type:A\u001b[0m\u001b[0;34m\u001b[0m\u001b[0;34m\u001b[0m\u001b[0m\n\u001b[0m",
      "\u001b[0;31mTypeError\u001b[0m: 'type' object is not subscriptable"
     ]
    }
   ],
   "source": [
    "b:TypeVar[A]=A() # type:A\n",
    "b."
   ]
  },
  {
   "cell_type": "code",
   "execution_count": null,
   "metadata": {
    "collapsed": true
   },
   "outputs": [],
   "source": [
    "!zip"
   ]
  }
 ],
 "metadata": {
  "hide_input": true,
  "kernelspec": {
   "display_name": "Python 3",
   "language": "python",
   "name": "python3"
  },
  "language_info": {
   "codemirror_mode": {
    "name": "ipython",
    "version": 3
   },
   "file_extension": ".py",
   "mimetype": "text/x-python",
   "name": "python",
   "nbconvert_exporter": "python",
   "pygments_lexer": "ipython3",
   "version": "3.7.3"
  },
  "varInspector": {
   "cols": {
    "lenName": 16,
    "lenType": 16,
    "lenVar": 40
   },
   "kernels_config": {
    "python": {
     "delete_cmd_postfix": "",
     "delete_cmd_prefix": "del ",
     "library": "var_list.py",
     "varRefreshCmd": "print(var_dic_list())"
    },
    "r": {
     "delete_cmd_postfix": ") ",
     "delete_cmd_prefix": "rm(",
     "library": "var_list.r",
     "varRefreshCmd": "cat(var_dic_list()) "
    }
   },
   "types_to_exclude": [
    "module",
    "function",
    "builtin_function_or_method",
    "instance",
    "_Feature"
   ],
   "window_display": false
  }
 },
 "nbformat": 4,
 "nbformat_minor": 1
}
