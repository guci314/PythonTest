{
 "cells": [
  {
   "cell_type": "code",
   "execution_count": 1,
   "metadata": {
    "collapsed": false,
    "hide_input": true
   },
   "outputs": [
    {
     "name": "stdout",
     "output_type": "stream",
     "text": [
      "11\n"
     ]
    }
   ],
   "source": [
    "import subprocess\n",
    "\n",
    "#x=subprocess.Popen('ls -l',shell=True,stdout=subprocess.PIPE)\n",
    "#y=x.stdout.readlines()\n",
    "#for z in y:\n",
    "#    print z\n",
    "def func(para1,para2):\n",
    "    return para1+para2\n",
    "\n",
    "class Animal:\n",
    "    name=''\n",
    "    age=''\n",
    "    def test(x,p):\n",
    "        return p\n",
    "    \n",
    "def aaa(x,p):\n",
    "    return p+1\n",
    "Animal.aaa=aaa\n",
    "\n",
    "\n",
    "a=Animal()\n",
    "print a.aaa(10)\n",
    "\n",
    "?"
   ]
  },
  {
   "cell_type": "code",
   "execution_count": 22,
   "metadata": {
    "collapsed": false
   },
   "outputs": [],
   "source": [
    "?"
   ]
  },
  {
   "cell_type": "code",
   "execution_count": 23,
   "metadata": {
    "collapsed": false,
    "hide_input": false
   },
   "outputs": [],
   "source": [
    "%quickref"
   ]
  },
  {
   "cell_type": "code",
   "execution_count": 49,
   "metadata": {
    "collapsed": false
   },
   "outputs": [
    {
     "name": "stdout",
     "output_type": "stream",
     "text": [
      "[' 4926 ?        00:07:01 java']\n"
     ]
    }
   ],
   "source": [
    "x=!ps -e | grep java\n",
    "print x"
   ]
  },
  {
   "cell_type": "code",
   "execution_count": 40,
   "metadata": {
    "collapsed": false
   },
   "outputs": [
    {
     "name": "stdout",
     "output_type": "stream",
     "text": [
      "[sudo] password for guci: # Docker Upstart and SysVinit configuration file\r\n",
      "\r\n",
      "# Customize location of Docker binary (especially for development testing).\r\n",
      "#DOCKER=\"/usr/local/bin/docker\"\r\n",
      "\r\n",
      "# Use DOCKER_OPTS to modify the daemon startup options.\r\n",
      "#DOCKER_OPTS=\"--dns 8.8.8.8 --dns 8.8.4.4\"\r\n",
      "#DOCKER_OPTS=\"--registry-mirror=http://guci.m.daocloud.io -d\"\r\n",
      "\r\n",
      "# If you need Docker to use an HTTP proxy, it can also be specified here.\r\n",
      "export http_proxy=\"http://127.0.0.1:8118\"\r\n",
      "#export http_proxy=\"http://127.0.0.1:8787\"\r\n",
      "\r\n",
      "# This is also a handy place to tweak where Docker's temporary files go.\r\n",
      "#export TMPDIR=\"/mnt/bigdrive/docker-tmp\"\r\n"
     ]
    }
   ],
   "source": [
    "!echo 1 | sudo -S cat /etc/default/docker"
   ]
  },
  {
   "cell_type": "code",
   "execution_count": 41,
   "metadata": {
    "collapsed": false
   },
   "outputs": [],
   "source": [
    "!zip?"
   ]
  },
  {
   "cell_type": "code",
   "execution_count": null,
   "metadata": {
    "collapsed": true
   },
   "outputs": [],
   "source": [
    "!zip"
   ]
  }
 ],
 "metadata": {
  "hide_input": true,
  "kernelspec": {
   "display_name": "Python 2",
   "language": "python",
   "name": "python2"
  },
  "language_info": {
   "codemirror_mode": {
    "name": "ipython",
    "version": 2
   },
   "file_extension": ".py",
   "mimetype": "text/x-python",
   "name": "python",
   "nbconvert_exporter": "python",
   "pygments_lexer": "ipython2",
   "version": "2.7.10"
  }
 },
 "nbformat": 4,
 "nbformat_minor": 0
}
