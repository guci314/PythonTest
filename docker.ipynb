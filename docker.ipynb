{
 "cells": [
  {
   "cell_type": "code",
   "execution_count": null,
   "metadata": {
    "collapsed": false
   },
   "outputs": [],
   "source": [
    "%run common.ipynb"
   ]
  },
  {
   "cell_type": "markdown",
   "metadata": {},
   "source": [
    "# 删除垃圾image"
   ]
  },
  {
   "cell_type": "code",
   "execution_count": null,
   "metadata": {
    "collapsed": false
   },
   "outputs": [],
   "source": [
    "%%sh \n",
    "docker rmi $(docker images -f \"dangling=true\" -q)"
   ]
  },
  {
   "cell_type": "markdown",
   "metadata": {},
   "source": [
    "# 停止所有容器"
   ]
  },
  {
   "cell_type": "code",
   "execution_count": 15,
   "metadata": {
    "collapsed": false,
    "hide_input": false
   },
   "outputs": [
    {
     "name": "stdout",
     "output_type": "stream",
     "text": [
      "9942920558ad\n",
      "ca79f7b14353\n",
      "b180abd09d79\n"
     ]
    }
   ],
   "source": [
    "%%sh\n",
    "docker stop $(docker ps -q)"
   ]
  },
  {
   "cell_type": "markdown",
   "metadata": {},
   "source": [
    "# 启动hadoop"
   ]
  },
  {
   "cell_type": "code",
   "execution_count": null,
   "metadata": {
    "collapsed": false
   },
   "outputs": [],
   "source": [
    "%%sh\n",
    "cd /home/guci/code/docker/hadoop-cluster-docker-master/\n",
    "./start-container.sh\n",
    "docker exec  master /root/start-hadoop.sh\n",
    "echo \"ok\""
   ]
  },
  {
   "cell_type": "code",
   "execution_count": null,
   "metadata": {
    "collapsed": false,
    "hide_input": true
   },
   "outputs": [],
   "source": [
    "ip=getContainerIp(\"master\")\n",
    "s=\"http://\"+ip+\":8088\"\n",
    "print s\n",
    "s=\"http://\"+ip+\":50070\"\n",
    "print s"
   ]
  },
  {
   "cell_type": "markdown",
   "metadata": {
    "variables": {
     "ip": "172.17.0.53",
     "s": "<a href=\"http://172.17.0.53:50070\">http://172.17.0.53:50070</a>"
    }
   },
   "source": [
    "{{ip}}\n",
    "\n",
    "[baidu](http://www.baidu.com)\n",
    "\n",
    "[hadoop web ui]({{s}})\n",
    "\n",
    "[hdfs ui]({{ip}}:50070)"
   ]
  }
 ],
 "metadata": {
  "hide_input": true,
  "kernelspec": {
   "display_name": "Python 2",
   "language": "python",
   "name": "python2"
  },
  "language_info": {
   "codemirror_mode": {
    "name": "ipython",
    "version": 2
   },
   "file_extension": ".py",
   "mimetype": "text/x-python",
   "name": "python",
   "nbconvert_exporter": "python",
   "pygments_lexer": "ipython2",
   "version": "2.7.10"
  }
 },
 "nbformat": 4,
 "nbformat_minor": 0
}
