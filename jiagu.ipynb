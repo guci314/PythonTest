{
 "cells": [
  {
   "cell_type": "code",
   "execution_count": 1,
   "metadata": {},
   "outputs": [
    {
     "name": "stdout",
     "output_type": "stream",
     "text": [
      "['厦门', '明天', '会', '不会', '下雨']\n",
      "['ns', 'nt', 'vu', 'vu', 'v']\n",
      "['B-LOC', 'I-LOC', 'O', 'O', 'O', 'O', 'O', 'O', 'O']\n"
     ]
    }
   ],
   "source": [
    "import jiagu\n",
    "\n",
    "#jiagu.init() # 可手动初始化，也可以动态初始化\n",
    "\n",
    "text = '厦门明天会不会下雨'\n",
    "\n",
    "words = jiagu.seg(text) # 分词\n",
    "print(words)\n",
    "\n",
    "pos = jiagu.pos(words) # 词性标注\n",
    "print(pos)\n",
    "\n",
    "ner = jiagu.ner(text) # 命名实体识别\n",
    "print(ner)"
   ]
  },
  {
   "cell_type": "code",
   "execution_count": 2,
   "metadata": {},
   "outputs": [
    {
     "name": "stdout",
     "output_type": "stream",
     "text": [
      "['汉服', '和', '服装']\n",
      "[['汉服', '和', '服装'], ['汉服', '和', '服装'], ['汉服', '和', '服装']]\n",
      "['汉服', '和', '服装']\n"
     ]
    }
   ],
   "source": [
    "text = '汉服和服装'\n",
    "\n",
    "words = jiagu.seg(text) # 默认分词\n",
    "print(words)\n",
    "\n",
    "words = jiagu.seg([text, text, text], input='batch') # 批量分词，加快速度。\n",
    "print(words)\n",
    "\n",
    "words = jiagu.seg(text, model='mmseg') # 使用mmseg算法进行分词\n",
    "print(list(words))"
   ]
  },
  {
   "cell_type": "code",
   "execution_count": 13,
   "metadata": {},
   "outputs": [
    {
     "name": "stdout",
     "output_type": "stream",
     "text": [
      "[]\n"
     ]
    }
   ],
   "source": [
    "text = '姚明（Yao Ming），1980年9月12日出生于上海市徐汇区，祖籍江苏省苏州市吴江区震泽镇，他是前中国职业篮球运动员，司职中锋，现任中职联公司董事长兼总经理。'\n",
    "text1='美国的一些政客就是看不清自己，也看不清世界大势，硬要走唯我独尊、强权政治的老路'\n",
    "knowledge = jiagu.knowledge(text1)\n",
    "print(knowledge)"
   ]
  },
  {
   "cell_type": "code",
   "execution_count": 6,
   "metadata": {},
   "outputs": [
    {
     "name": "stdout",
     "output_type": "stream",
     "text": [
      "['当前', '应用', '深度', '学习', '进行', '命名', '实体', '识别', '的', '主流', '手段', '是', ' ', 'CNN', '_', 'BLSTM', '_', 'CRF', '[', '1', ']', '。', '这', '到底', '是', '怎么回事']\n"
     ]
    }
   ],
   "source": [
    "words=jiagu.seg('当前应用深度学习进行命名实体识别的主流手段是 CNN_BLSTM_CRF[1]。这到底是怎么回事')\n",
    "print(words)"
   ]
  }
 ],
 "metadata": {
  "kernelspec": {
   "display_name": "Python 3",
   "language": "python",
   "name": "python3"
  },
  "language_info": {
   "codemirror_mode": {
    "name": "ipython",
    "version": 3
   },
   "file_extension": ".py",
   "mimetype": "text/x-python",
   "name": "python",
   "nbconvert_exporter": "python",
   "pygments_lexer": "ipython3",
   "version": "3.7.3"
  },
  "varInspector": {
   "cols": {
    "lenName": 16,
    "lenType": 16,
    "lenVar": 40
   },
   "kernels_config": {
    "python": {
     "delete_cmd_postfix": "",
     "delete_cmd_prefix": "del ",
     "library": "var_list.py",
     "varRefreshCmd": "print(var_dic_list())"
    },
    "r": {
     "delete_cmd_postfix": ") ",
     "delete_cmd_prefix": "rm(",
     "library": "var_list.r",
     "varRefreshCmd": "cat(var_dic_list()) "
    }
   },
   "types_to_exclude": [
    "module",
    "function",
    "builtin_function_or_method",
    "instance",
    "_Feature"
   ],
   "window_display": false
  }
 },
 "nbformat": 4,
 "nbformat_minor": 2
}
