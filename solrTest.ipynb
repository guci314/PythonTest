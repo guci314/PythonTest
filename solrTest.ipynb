{
 "cells": [
  {
   "cell_type": "code",
   "execution_count": 4,
   "metadata": {
    "scrolled": true
   },
   "outputs": [
    {
     "data": {
      "text/plain": [
       "[{'id': '/home/guci/我的坚果云/books/俺见识过的极品女人.txt', 'suffix': 'txt'},\n",
       " {'id': '/home/guci/我的坚果云/books/玉机子讲阴符经-4.doc', 'suffix': 'doc'},\n",
       " {'id': '/home/guci/我的坚果云/books/玉机子讲阴符经-3.doc', 'suffix': 'doc'},\n",
       " {'id': 'changeme'},\n",
       " {'id': 'changeme1'},\n",
       " {'id': 'changeme3'},\n",
       " {'id': 'name1'},\n",
       " {'id': 'name2'},\n",
       " {'id': 'name4'},\n",
       " {'id': 'name5'}]"
      ]
     },
     "execution_count": 4,
     "metadata": {},
     "output_type": "execute_result"
    }
   ],
   "source": [
    "from SolrClient import SolrClient\n",
    "solr = SolrClient('http://localhost:8983/solr')\n",
    "res = solr.query('test',{'q':'*','fl':'id,suffix'})\n",
    "res.docs"
   ]
  },
  {
   "cell_type": "code",
   "execution_count": 19,
   "metadata": {},
   "outputs": [
    {
     "data": {
      "text/plain": [
       "True"
      ]
     },
     "execution_count": 19,
     "metadata": {},
     "output_type": "execute_result"
    }
   ],
   "source": [
    "docs = [{'id':'changeme2','field1':'value1'}, {'id':'changeme3','field2':'value2'}]\n",
    "for i in range(100):\n",
    "    name=\"name{}\".format(i)\n",
    "    docs.append({'id':name,'field1':'value1'})\n",
    "params={}\n",
    "params[\"commit\"]=True\n",
    "solr.index('test', docs,params=params)"
   ]
  },
  {
   "cell_type": "code",
   "execution_count": 7,
   "metadata": {},
   "outputs": [
    {
     "data": {
      "text/plain": [
       "['name99',\n",
       " 'name98',\n",
       " 'name97',\n",
       " 'name96',\n",
       " 'name95',\n",
       " 'name94',\n",
       " 'name93',\n",
       " 'name92',\n",
       " 'name91',\n",
       " 'name90',\n",
       " 'name9',\n",
       " 'name89',\n",
       " 'name88',\n",
       " 'name87',\n",
       " 'name86',\n",
       " 'name85',\n",
       " 'name84',\n",
       " 'name83',\n",
       " 'name82',\n",
       " 'name81',\n",
       " 'name80',\n",
       " 'name8',\n",
       " 'name79',\n",
       " 'name78',\n",
       " 'name77',\n",
       " 'name76',\n",
       " 'name75',\n",
       " 'name74',\n",
       " 'name73',\n",
       " 'name72',\n",
       " 'name71',\n",
       " 'name70',\n",
       " 'name7',\n",
       " 'name69',\n",
       " 'name68',\n",
       " 'name67',\n",
       " 'name66',\n",
       " 'name65',\n",
       " 'name64',\n",
       " 'name63',\n",
       " 'name62',\n",
       " 'name61',\n",
       " 'name60',\n",
       " 'name6',\n",
       " 'name59',\n",
       " 'name58',\n",
       " 'name57',\n",
       " 'name56',\n",
       " 'name55',\n",
       " 'name54',\n",
       " 'name53',\n",
       " 'name52',\n",
       " 'name51',\n",
       " 'name50',\n",
       " 'name5',\n",
       " 'name49',\n",
       " 'name48',\n",
       " 'name47',\n",
       " 'name46',\n",
       " 'name45',\n",
       " 'name44',\n",
       " 'name43',\n",
       " 'name42',\n",
       " 'name41',\n",
       " 'name40',\n",
       " 'name4',\n",
       " 'name39',\n",
       " 'name38',\n",
       " 'name37',\n",
       " 'name36',\n",
       " 'name35',\n",
       " 'name34',\n",
       " 'name33',\n",
       " 'name32',\n",
       " 'name31',\n",
       " 'name30',\n",
       " 'name3',\n",
       " 'name29',\n",
       " 'name28',\n",
       " 'name27',\n",
       " 'name26',\n",
       " 'name25',\n",
       " 'name24',\n",
       " 'name23',\n",
       " 'name22',\n",
       " 'name21',\n",
       " 'name20',\n",
       " 'name2',\n",
       " 'name19',\n",
       " 'name18',\n",
       " 'name17',\n",
       " 'name16',\n",
       " 'name15',\n",
       " 'name14',\n",
       " 'name13',\n",
       " 'name12',\n",
       " 'name11',\n",
       " 'name10',\n",
       " 'name1',\n",
       " 'name0',\n",
       " 'changeme3',\n",
       " 'changeme2',\n",
       " 'changeme1',\n",
       " 'changeme',\n",
       " '/home/guci/我的坚果云/books/王朔文集-王朔作品集.txt',\n",
       " '/home/guci/我的坚果云/books/王朔.txt',\n",
       " '/home/guci/我的坚果云/books/玉机子讲阴符经-4.doc',\n",
       " '/home/guci/我的坚果云/books/玉机子讲阴符经-3.doc',\n",
       " '/home/guci/我的坚果云/books/玉机子讲阴符经-2.doc',\n",
       " '/home/guci/我的坚果云/books/玉机子讲阴符经-1.doc',\n",
       " '/home/guci/我的坚果云/books/漂亮前女友.txt',\n",
       " '/home/guci/我的坚果云/books/影响你一生的100个幽默技巧[readme].pdf',\n",
       " '/home/guci/我的坚果云/books/幽默就是力量.pdf',\n",
       " '/home/guci/我的坚果云/books/变态楼主.txt',\n",
       " '/home/guci/我的坚果云/books/俺见识过的极品女人.txt',\n",
       " '/home/guci/我的坚果云/books/中外名人幽默大观.pdf',\n",
       " '/home/guci/我的坚果云/books/世界五千年幽默大全之外国卷.txt',\n",
       " '/home/guci/我的坚果云/books/1_1_自他波动共振成像解释-laoshi.docx',\n",
       " '/home/guci/app/solr-8.0.0/README.txt']"
      ]
     },
     "execution_count": 7,
     "metadata": {},
     "output_type": "execute_result"
    }
   ],
   "source": [
    "def getAllId(collection):\n",
    "    ids=[]\n",
    "    for res in solr.cursor_query('test',{'q':'*:*','fl':'id'}):\n",
    "        for doc in res.docs:\n",
    "            ids.append(doc['id'])\n",
    "    return ids\n",
    "x=getAllId('test')\n",
    "x"
   ]
  },
  {
   "cell_type": "code",
   "execution_count": 37,
   "metadata": {},
   "outputs": [
    {
     "name": "stdout",
     "output_type": "stream",
     "text": [
      "http://localhost:8983/solr\n"
     ]
    }
   ],
   "source": [
    "mysolr = MySolr('http://localhost:8983/solr')\n",
    "mysolr.func()"
   ]
  },
  {
   "cell_type": "code",
   "execution_count": 8,
   "metadata": {},
   "outputs": [
    {
     "name": "stdout",
     "output_type": "stream",
     "text": [
      "Overwriting solrApi.py\n"
     ]
    }
   ],
   "source": [
    "%%writefile solrApi.py\n",
    "from SolrClient import SolrClient\n",
    "import requests\n",
    "import os\n",
    "class SolrApi(SolrClient):\n",
    "    def func(self):\n",
    "        print(self.host)\n",
    "    def postFile(self,collection,file):\n",
    "        posturl = self.host+\"/\"+collection+\"/update/extract\"\n",
    "        p={}\n",
    "        p[\"commit\"]=\"true\"\n",
    "        p[\"literal.id\"]=file\n",
    "        p[\"literal.attr_resourcename\"]=file\n",
    "        suffix=os.path.splitext(file)[1]\n",
    "        suffix=suffix.strip(\".\")\n",
    "        p[\"literal.suffix\"]=suffix\n",
    "        try:\n",
    "            payload = open(file, \"rb\").read()\n",
    "            r = requests.post(posturl, data=payload, params=p)\n",
    "            return r\n",
    "        except e:\n",
    "            print(e)\n",
    "    def getAllId(self,collection):\n",
    "        ids=[]\n",
    "        for res in self.cursor_query(collection,{'q':'*:*','fl':'id'}):\n",
    "            for doc in res.docs:\n",
    "                ids.append(doc['id'])\n",
    "        return ids\n"
   ]
  },
  {
   "cell_type": "code",
   "execution_count": 1,
   "metadata": {},
   "outputs": [
    {
     "data": {
      "text/plain": [
       "['name99',\n",
       " 'name98',\n",
       " 'name97',\n",
       " 'name96',\n",
       " 'name95',\n",
       " 'name94',\n",
       " 'name93',\n",
       " 'name92',\n",
       " 'name91',\n",
       " 'name90',\n",
       " 'name9',\n",
       " 'name89',\n",
       " 'name88',\n",
       " 'name87',\n",
       " 'name86',\n",
       " 'name85',\n",
       " 'name84',\n",
       " 'name83',\n",
       " 'name82',\n",
       " 'name81',\n",
       " 'name80',\n",
       " 'name8',\n",
       " 'name79',\n",
       " 'name78',\n",
       " 'name77',\n",
       " 'name76',\n",
       " 'name75',\n",
       " 'name74',\n",
       " 'name73',\n",
       " 'name72',\n",
       " 'name71',\n",
       " 'name70',\n",
       " 'name7',\n",
       " 'name69',\n",
       " 'name68',\n",
       " 'name67',\n",
       " 'name66',\n",
       " 'name65',\n",
       " 'name64',\n",
       " 'name63',\n",
       " 'name62',\n",
       " 'name61',\n",
       " 'name60',\n",
       " 'name6',\n",
       " 'name59',\n",
       " 'name58',\n",
       " 'name57',\n",
       " 'name56',\n",
       " 'name55',\n",
       " 'name54',\n",
       " 'name53',\n",
       " 'name52',\n",
       " 'name51',\n",
       " 'name50',\n",
       " 'name5',\n",
       " 'name49',\n",
       " 'name48',\n",
       " 'name47',\n",
       " 'name46',\n",
       " 'name45',\n",
       " 'name44',\n",
       " 'name43',\n",
       " 'name42',\n",
       " 'name41',\n",
       " 'name40',\n",
       " 'name4',\n",
       " 'name39',\n",
       " 'name38',\n",
       " 'name37',\n",
       " 'name36',\n",
       " 'name35',\n",
       " 'name34',\n",
       " 'name33',\n",
       " 'name32',\n",
       " 'name31',\n",
       " 'name30',\n",
       " 'name3',\n",
       " 'name29',\n",
       " 'name28',\n",
       " 'name27',\n",
       " 'name26',\n",
       " 'name25',\n",
       " 'name24',\n",
       " 'name23',\n",
       " 'name22',\n",
       " 'name21',\n",
       " 'name20',\n",
       " 'name2',\n",
       " 'name19',\n",
       " 'name18',\n",
       " 'name17',\n",
       " 'name16',\n",
       " 'name15',\n",
       " 'name14',\n",
       " 'name13',\n",
       " 'name12',\n",
       " 'name11',\n",
       " 'name10',\n",
       " 'name1',\n",
       " 'name0',\n",
       " 'changeme3',\n",
       " 'changeme2',\n",
       " 'changeme1',\n",
       " 'changeme',\n",
       " '/home/guci/我的坚果云/books/王朔文集-王朔作品集.txt',\n",
       " '/home/guci/我的坚果云/books/王朔.txt',\n",
       " '/home/guci/我的坚果云/books/玉机子讲阴符经-4.doc',\n",
       " '/home/guci/我的坚果云/books/玉机子讲阴符经-3.doc',\n",
       " '/home/guci/我的坚果云/books/玉机子讲阴符经-2.doc',\n",
       " '/home/guci/我的坚果云/books/玉机子讲阴符经-1.doc',\n",
       " '/home/guci/我的坚果云/books/漂亮前女友.txt',\n",
       " '/home/guci/我的坚果云/books/影响你一生的100个幽默技巧[readme].pdf',\n",
       " '/home/guci/我的坚果云/books/幽默就是力量.pdf',\n",
       " '/home/guci/我的坚果云/books/变态楼主.txt',\n",
       " '/home/guci/我的坚果云/books/俺见识过的极品女人.txt',\n",
       " '/home/guci/我的坚果云/books/中外名人幽默大观.pdf',\n",
       " '/home/guci/我的坚果云/books/世界五千年幽默大全之外国卷.txt',\n",
       " '/home/guci/我的坚果云/books/1_1_自他波动共振成像解释-laoshi.docx',\n",
       " '/home/guci/app/solr-8.0.0/README.txt']"
      ]
     },
     "execution_count": 1,
     "metadata": {},
     "output_type": "execute_result"
    }
   ],
   "source": [
    "from solrApi import SolrApi\n",
    "mysolr1 = SolrApi('http://localhost:8983/solr')\n",
    "#r=mysolr1.postFile(\"test\",\"/home/guci/app/solr-8.0.0/README.txt\")\n",
    "#print(r)\n",
    "x=mysolr1.getAllId('test')\n",
    "x"
   ]
  },
  {
   "cell_type": "code",
   "execution_count": 2,
   "metadata": {},
   "outputs": [
    {
     "data": {
      "text/plain": [
       "{'id': '/home/guci/app/solr-8.0.0/README.txt',\n",
       " 'attr_resourcename': ['/home/guci/app/solr-8.0.0/README.txt'],\n",
       " 'suffix': 'txt',\n",
       " 'attr_stream_size': ['7679'],\n",
       " 'attr_x_parsed_by': ['org.apache.tika.parser.DefaultParser',\n",
       "  'org.apache.tika.parser.txt.TXTParser'],\n",
       " 'attr_content_encoding': ['windows-1252'],\n",
       " 'content_type': 'text/plain; charset=windows-1252',\n",
       " 'language': 'en',\n",
       " 'doc_type': 'text',\n",
       " 'content_type_type_s': 'text',\n",
       " 'content_type_subtype_s': 'plain',\n",
       " 'url_ss': ['http://www.apache.org/licenses/LICENSE-2.0',\n",
       "  'http://lucene.apache.org/solr',\n",
       "  'http://localhost:8983/solr/',\n",
       "  'https://lucene.apache.org/solr/guide/solr-tutorial.html',\n",
       "  'http://lucene.apache.org/solr/resources.html',\n",
       "  'http://wiki.apache.org/solr/IntegratingSolr',\n",
       "  'http://wiki.apache.org/solr/SolrPlugins',\n",
       "  'http://www.oracle.com/java/',\n",
       "  'http://ant.apache.org/',\n",
       "  'http://ant.apache.org/ivy/',\n",
       "  'http://lucene.apache.org/solr/versioncontrol.html',\n",
       "  'http://www.wassenaar.org/',\n",
       "  'http://www.bouncycastle.org/'],\n",
       " '_version_': 1634109024177750016,\n",
       " 'content': ' # Licensed to the Apache Software Foundation (ASF) under one or more\\r\\n# contributor license agreements.  See the NOTICE file distributed with\\r\\n# this work for additional information regarding copyright ownership.\\r\\n# The ASF licenses this file to You under the Apache License, Version 2.0\\r\\n# (the \"License\"); you may not use this file except in compliance with\\r\\n# the License.  You may obtain a copy of the License at\\r\\n#\\r\\n#     http://www.apache.org/licenses/LICENSE-2.0\\r\\n#\\r\\n# Unless required by applicable law or agreed to in writing, software\\r\\n# distributed under the License is distributed on an \"AS IS\" BASIS,\\r\\n# WITHOUT WARRANTIES OR CONDITIONS OF ANY KIND, either express or implied.\\r\\n# See the License for the specific language governing permissions and\\r\\n# limitations under the License.\\r\\n\\r\\n\\r\\nWelcome to the Apache Solr project!\\r\\n-----------------------------------\\r\\n\\r\\nSolr is the popular, blazing fast open source enterprise search platform\\r\\nfrom the Apache Lucene project.\\r\\n\\r\\nFor a complete description of the Solr project, team composition, source\\r\\ncode repositories, and other details, please see the Solr web site at\\r\\nhttp://lucene.apache.org/solr\\r\\n\\r\\n\\r\\nGetting Started\\r\\n---------------\\r\\n\\r\\nTo start Solr for the first time after installation, simply do:\\r\\n\\r\\n  bin/solr start\\r\\n\\r\\nThis will launch a standalone Solr server in the background of your shell,\\r\\nlistening on port 8983. Alternatively, you can launch Solr in \"cloud\" mode,\\r\\nwhich allows you to scale out using sharding and replication. To launch Solr\\r\\nin cloud mode, do:\\r\\n\\r\\n  bin/solr start -cloud\\r\\n\\r\\nTo see all available options for starting Solr, please do:\\r\\n\\r\\n  bin/solr start -help\\r\\n\\r\\nAfter starting Solr, create either a core or collection depending on whether\\r\\nSolr is running in standalone (core) or SolrCloud mode (collection) by doing:\\r\\n\\r\\n  bin/solr create -c <name>\\r\\n\\r\\nThis will create a collection that uses a data-driven schema which tries to guess\\r\\nthe correct field type when you add documents to the index. To see all available\\r\\noptions for creating a new collection, execute:\\r\\n\\r\\n  bin/solr create -help\\r\\n\\r\\nAfter starting Solr, direct your Web browser to the Solr Admin Console at:\\r\\n\\r\\n  http://localhost:8983/solr/\\r\\n\\r\\nWhen finished with your Solr installation, shut it down by executing:\\r\\n\\r\\n  bin/solr stop -all\\r\\n\\r\\nThe `-p PORT` option can also be used to identify the Solr instance to shutdown,\\r\\nwhere more than one Solr is running on the machine.\\r\\n\\r\\n\\r\\nSolr Examples\\r\\n---------------\\r\\n\\r\\nSolr includes a few examples to help you get started. To run a specific example, do:\\r\\n\\r\\n  bin/solr -e <EXAMPLE> where <EXAMPLE> is one of:\\r\\n\\r\\n    cloud        : SolrCloud example\\r\\n    dih          : Data Import Handler (rdbms, mail, atom, tika)\\r\\n    schemaless   : Schema-less example (schema is inferred from data during indexing)\\r\\n    techproducts : Kitchen sink example providing comprehensive examples of Solr features\\r\\n\\r\\nFor instance, if you want to run the Solr Data Import Handler example, do:\\r\\n\\r\\n  bin/solr -e dih\\r\\n\\r\\n\\r\\nIndexing Documents\\r\\n---------------\\r\\n\\r\\nTo add documents to the index, use bin/post.  For example:\\r\\n\\r\\n     bin/post -c <collection_name> example/exampledocs/*.xml\\r\\n\\r\\nFor more information about Solr examples please read...\\r\\n\\r\\n * example/README.txt\\r\\n   For more information about the \"Solr Home\" and Solr specific configuration\\r\\n * https://lucene.apache.org/solr/guide/solr-tutorial.html\\r\\n   For a Solr tutorial\\r\\n * http://lucene.apache.org/solr/resources.html\\r\\n   For a list of other tutorials and introductory articles.\\r\\n\\r\\nor linked from \"docs/index.html\" in a binary distribution.\\r\\n\\r\\nAlso, there are Solr clients for many programming languages, see\\r\\n   http://wiki.apache.org/solr/IntegratingSolr\\r\\n\\r\\n\\r\\nFiles included in an Apache Solr binary distribution\\r\\n----------------------------------------------------\\r\\n\\r\\nserver/\\r\\n  A self-contained Solr instance, complete with a sample\\r\\n  configuration and documents to index. Please see: bin/solr start -help\\r\\n  for more information about starting a Solr server.\\r\\n\\r\\nexample/\\r\\n  Contains example documents and an alternative Solr home\\r\\n  directory containing examples of how to use the Data Import Handler,\\r\\n  see example/example-DIH/README.txt for more information.\\r\\n\\r\\ndist/solr-<component>-XX.jar\\r\\n  The Apache Solr libraries.  To compile Apache Solr Plugins,\\r\\n  one or more of these will be required.  The core library is\\r\\n  required at a minimum. (see http://wiki.apache.org/solr/SolrPlugins\\r\\n  for more information).\\r\\n\\r\\ndocs/index.html\\r\\n  A link to the online version of Apache Solr Javadoc API documentation and Tutorial\\r\\n\\r\\n\\r\\nInstructions for Building Apache Solr from Source\\r\\n-------------------------------------------------\\r\\n\\r\\n1. Download the Java SE 8 JDK (Java Development Kit) or later from http://www.oracle.com/java/\\r\\n   You will need the JDK installed, and the $JAVA_HOME/bin (Windows: %JAVA_HOME%\\\\bin)\\r\\n   folder included on your command path. To test this, issue a \"java -version\" command\\r\\n   from your shell (command prompt) and verify that the Java version is 1.8 or later.\\r\\n\\r\\n2. Download the Apache Ant binary distribution (1.8.2+) from\\r\\n   http://ant.apache.org/  You will need Ant installed and the $ANT_HOME/bin (Windows:\\r\\n   %ANT_HOME%\\\\bin) folder included on your command path. To test this, issue a\\r\\n   \"ant -version\" command from your shell (command prompt) and verify that Ant is\\r\\n   available.\\r\\n\\r\\n   You will also need to install Apache Ivy binary distribution (2.2.0) from\\r\\n   http://ant.apache.org/ivy/ and place ivy-2.2.0.jar file in ~/.ant/lib -- if you skip\\r\\n   this step, the Solr build system will offer to do it for you.\\r\\n\\r\\n3. Download the Apache Solr distribution, linked from the above web site.\\r\\n   Unzip the distribution to a folder of your choice, e.g. C:\\\\solr or ~/solr\\r\\n   Alternately, you can obtain a copy of the latest Apache Solr source code\\r\\n   directly from the GIT repository:\\r\\n\\r\\n     http://lucene.apache.org/solr/versioncontrol.html\\r\\n\\r\\n4. Navigate to the \"solr\" folder and issue an \"ant\" command to see the available options\\r\\n   for building, testing, and packaging Solr.\\r\\n\\r\\n   NOTE:\\r\\n   To see Solr in action, you may want to use the \"ant server\" command to build\\r\\n   and package Solr into the server directory. See also server/README.txt.\\r\\n\\r\\n\\r\\nExport control\\r\\n-------------------------------------------------\\r\\nThis distribution includes cryptographic software.  The country in\\r\\nwhich you currently reside may have restrictions on the import,\\r\\npossession, use, and/or re-export to another country, of\\r\\nencryption software.  BEFORE using any encryption software, please\\r\\ncheck your country\\'s laws, regulations and policies concerning the\\r\\nimport, possession, or use, and re-export of encryption software, to\\r\\nsee if this is permitted.  See <http://www.wassenaar.org/> for more\\r\\ninformation.\\r\\n\\r\\nThe U.S. Government Department of Commerce, Bureau of Industry and\\r\\nSecurity (BIS), has classified this software as Export Commodity\\r\\nControl Number (ECCN) 5D002.C.1, which includes information security\\r\\nsoftware using or performing cryptographic functions with asymmetric\\r\\nalgorithms.  The form and manner of this Apache Software Foundation\\r\\ndistribution makes it eligible for export under the License Exception\\r\\nENC Technology Software Unrestricted (TSU) exception (see the BIS\\r\\nExport Administration Regulations, Section 740.13) for both object\\r\\ncode and source code.\\r\\n\\r\\nThe following provides more details on the included cryptographic\\r\\nsoftware:\\r\\n    Apache Solr uses the Apache Tika which uses the Bouncy Castle generic encryption libraries for\\r\\n    extracting text content and metadata from encrypted PDF files.\\r\\n    See http://www.bouncycastle.org/ for more details on Bouncy Castle.\\r\\n \\n'}"
      ]
     },
     "execution_count": 2,
     "metadata": {},
     "output_type": "execute_result"
    }
   ],
   "source": []
  }
 ],
 "metadata": {
  "kernelspec": {
   "display_name": "Python 3",
   "language": "python",
   "name": "python3"
  },
  "language_info": {
   "codemirror_mode": {
    "name": "ipython",
    "version": 3
   },
   "file_extension": ".py",
   "mimetype": "text/x-python",
   "name": "python",
   "nbconvert_exporter": "python",
   "pygments_lexer": "ipython3",
   "version": "3.7.3"
  },
  "varInspector": {
   "cols": {
    "lenName": 16,
    "lenType": 16,
    "lenVar": 40
   },
   "kernels_config": {
    "python": {
     "delete_cmd_postfix": "",
     "delete_cmd_prefix": "del ",
     "library": "var_list.py",
     "varRefreshCmd": "print(var_dic_list())"
    },
    "r": {
     "delete_cmd_postfix": ") ",
     "delete_cmd_prefix": "rm(",
     "library": "var_list.r",
     "varRefreshCmd": "cat(var_dic_list()) "
    }
   },
   "types_to_exclude": [
    "module",
    "function",
    "builtin_function_or_method",
    "instance",
    "_Feature"
   ],
   "window_display": false
  }
 },
 "nbformat": 4,
 "nbformat_minor": 2
}
