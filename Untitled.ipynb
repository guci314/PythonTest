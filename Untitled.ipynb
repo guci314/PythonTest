{
 "cells": [
  {
   "cell_type": "code",
   "execution_count": 2,
   "metadata": {},
   "outputs": [],
   "source": [
    "from sympy.interactive import printing\n",
    "printing.init_printing(use_latex=True)\n",
    "from sympy import Eq , solve_linear_system,Matrix\n",
    "from numpy import linalg\n",
    "import numpy as np\n",
    "import sympy as sp"
   ]
  },
  {
   "cell_type": "code",
   "execution_count": 4,
   "metadata": {},
   "outputs": [
    {
     "data": {
      "image/png": "[encoded data removed]",
      "text/latex": [
       "$$2 x - y = -4$$"
      ],
      "text/plain": [
       "2⋅x - y = -4"
      ]
     },
     "metadata": {},
     "output_type": "display_data"
    },
    {
     "data": {
      "image/png": "[encoded data removed]",
      "text/latex": [
       "$$3 x - y = -2$$"
      ],
      "text/plain": [
       "3⋅x - y = -2"
      ]
     },
     "metadata": {},
     "output_type": "display_data"
    },
    {
     "data": {
      "image/png": "[encoded data removed]",
      "text/latex": [
       "$$\\left \\{ x : 2, \\quad y : 8\\right \\}$$"
      ],
      "text/plain": [
       "{x: 2, y: 8}"
      ]
     },
     "metadata": {},
     "output_type": "display_data"
    }
   ],
   "source": [
    "x,y=sp.symbols('x y')\n",
    "eq1=Eq(2*x-y,-4)\n",
    "eq2=Eq(3*x-y,-2)\n",
    "display(eq1)\n",
    "display(eq2)\n",
    "\n",
    "row1=[2,-1,-4]\n",
    "row2=[3,-1,-2]\n",
    "system=Matrix((row1,row2))\n",
    "display(solve_linear_system(system,x,y))"
   ]
  }
 ],
 "metadata": {
  "kernelspec": {
   "display_name": "Python 3",
   "language": "python",
   "name": "python3"
  },
  "language_info": {
   "codemirror_mode": {
    "name": "ipython",
    "version": 3
   },
   "file_extension": ".py",
   "mimetype": "text/x-python",
   "name": "python",
   "nbconvert_exporter": "python",
   "pygments_lexer": "ipython3",
   "version": "3.7.3"
  }
 },
 "nbformat": 4,
 "nbformat_minor": 2
}
