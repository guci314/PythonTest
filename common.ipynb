{
 "cells": [
  {
   "cell_type": "code",
   "execution_count": 20,
   "metadata": {
    "code_folding": [],
    "collapsed": false
   },
   "outputs": [],
   "source": [
    "import shlex,subprocess,os\n",
    "def test():\n",
    "    return \"hello world\"\n",
    "def getContainerIp(name):\n",
    "    cmd=\"docker inspect --format=\\\"{{.NetworkSettings.IPAddress}}\\\" \"+name\n",
    "    cmd=shlex.split(cmd)\n",
    "    p = subprocess.Popen(cmd,stdout=subprocess.PIPE)\n",
    "    return p.stdout.readlines()[0].strip()\n",
    "\n",
    "def printJupyterPath():\n",
    "    from jupyter_core.paths import jupyter_data_dir, jupyter_path,jupyter_config_dir, jupyter_config_path\n",
    "    print jupyter_data_dir()\n",
    "    print jupyter_path()\n",
    "    print jupyter_config_dir()\n",
    "    print jupyter_config_path()\n",
    "    \n",
    "def run(cmd):\n",
    "    cmd=shlex.split(cmd)\n",
    "    p = subprocess.Popen(cmd,stdout=subprocess.PIPE)\n",
    "    return p.stdout.readlines()\n",
    "def removeContainer(imgName):\n",
    "    x=run(\"docker ps -a\")\n",
    "    for y in x:\n",
    "        container=y.split()\n",
    "        img=container[1]\n",
    "        if img.find(imgName) != -1:\n",
    "            run('docker rm '+container[0])\n",
    "    print 'ok'    \n",
    "    \n",
    "def backupFolder(filename,targetFolder):\n",
    "    if os.path.exists(filename):\n",
    "        os.remove(filename)\n",
    "    run('zip -r -P 700127 %s %s' % (filename,targetFolder))\n",
    "    \n",
    "    print 'ok'\n",
    "    \n",
    "def backup():\n",
    "    filename='/home/guci/KuaiPan/backup/thebrain.zip'\n",
    "    targetFolder='/home/guci/brain/'\n",
    "    backupFolder(filename,targetFolder)\n",
    "    print '备份brian完成'\n",
    "    \n",
    "    filename='/home/guci/KuaiPan/backup/mydocuments.zip'\n",
    "    targetFolder='/home/guci/文档/'\n",
    "    backupFolder(filename,targetFolder)\n",
    "    print '备份我的文档完成'\n",
    "    "
   ]
  },
  {
   "cell_type": "code",
   "execution_count": 21,
   "metadata": {
    "collapsed": false
   },
   "outputs": [
    {
     "name": "stdout",
     "output_type": "stream",
     "text": [
      "ok\n",
      "备份brian完成\n",
      "ok\n",
      "备份我的文档完成\n"
     ]
    }
   ],
   "source": []
  }
 ],
 "metadata": {
  "hide_input": true,
  "kernelspec": {
   "display_name": "Python 2",
   "language": "python",
   "name": "python2"
  },
  "language_info": {
   "codemirror_mode": {
    "name": "ipython",
    "version": 2
   },
   "file_extension": ".py",
   "mimetype": "text/x-python",
   "name": "python",
   "nbconvert_exporter": "python",
   "pygments_lexer": "ipython2",
   "version": "2.7.10"
  }
 },
 "nbformat": 4,
 "nbformat_minor": 0
}
