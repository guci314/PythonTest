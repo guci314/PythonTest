{
 "cells": [
  {
   "cell_type": "markdown",
   "metadata": {},
   "source": [
    "# 方程式求解"
   ]
  },
  {
   "cell_type": "code",
   "execution_count": 4,
   "metadata": {},
   "outputs": [],
   "source": [
    "from sympy.interactive import printing\n",
    "printing.init_printing(use_latex=True)\n",
    "from sympy import Eq , solve_linear_system,Matrix\n",
    "from numpy import linalg\n",
    "import numpy as np\n",
    "import sympy as sp"
   ]
  },
  {
   "cell_type": "code",
   "execution_count": 24,
   "metadata": {},
   "outputs": [
    {
     "data": {
      "image/png": "[encoded data removed]",
      "text/latex": [
       "$$2 x - y = -4$$"
      ],
      "text/plain": [
       "2⋅x - y = -4"
      ]
     },
     "metadata": {},
     "output_type": "display_data"
    },
    {
     "data": {
      "image/png": "[encoded data removed]",
      "text/latex": [
       "$$3 x - y = -2$$"
      ],
      "text/plain": [
       "3⋅x - y = -2"
      ]
     },
     "metadata": {},
     "output_type": "display_data"
    },
    {
     "data": {
      "image/png": "[encoded data removed]",
      "text/latex": [
       "$$\\left \\{ x : 2, \\quad y : 8\\right \\}$$"
      ],
      "text/plain": [
       "{x: 2, y: 8}"
      ]
     },
     "execution_count": 24,
     "metadata": {},
     "output_type": "execute_result"
    }
   ],
   "source": [
    "x,y=sp.symbols('x y')\n",
    "# just for display\n",
    "eq1=Eq(2*x-y,-4)\n",
    "eq2=Eq(3*x-y,-2)\n",
    "display(eq1)\n",
    "display(eq2)\n",
    "# ----------------\n",
    "row1=[2,-1,-4]\n",
    "row2=[3,-1,-2]\n",
    "system=Matrix((row1,row2))\n",
    "solve_linear_system(system,x,y)"
   ]
  },
  {
   "cell_type": "markdown",
   "metadata": {},
   "source": [
    "# Solver\n",
    "来源 http://apmonitor.com/che263/index.php/Main/PythonOptimization"
   ]
  },
  {
   "cell_type": "code",
   "execution_count": 2,
   "metadata": {},
   "outputs": [
    {
     "name": "stdout",
     "output_type": "stream",
     "text": [
      "Initial Objective: 16.0\n",
      "Final Objective: 17.01401724563517\n",
      "Solution\n",
      "x1 = 1.0\n",
      "x2 = 4.742996096883977\n",
      "x3 = 3.8211546234095715\n",
      "x4 = 1.379407645075325\n"
     ]
    }
   ],
   "source": [
    "import numpy as np\n",
    "from scipy.optimize import minimize\n",
    "\n",
    "def objective(x):\n",
    "    return x[0]*x[3]*(x[0]+x[1]+x[2])+x[2]\n",
    "\n",
    "def constraint1(x):\n",
    "    return x[0]*x[1]*x[2]*x[3]-25.0\n",
    "\n",
    "def constraint2(x):\n",
    "    sum_eq = 40.0\n",
    "    for i in range(4):\n",
    "        sum_eq = sum_eq - x[i]**2\n",
    "    return sum_eq\n",
    "\n",
    "# initial guesses\n",
    "n = 4\n",
    "x0 = np.zeros(n)\n",
    "x0[0] = 1.0\n",
    "x0[1] = 5.0\n",
    "x0[2] = 5.0\n",
    "x0[3] = 1.0\n",
    "\n",
    "# show initial objective\n",
    "print('Initial Objective: ' + str(objective(x0)))\n",
    "\n",
    "# optimize\n",
    "b = (1.0,5.0)\n",
    "bnds = (b, b, b, b)\n",
    "con1 = {'type': 'ineq', 'fun': constraint1} \n",
    "con2 = {'type': 'eq', 'fun': constraint2}\n",
    "cons = ([con1,con2])\n",
    "solution = minimize(objective,x0,method='SLSQP',\\\n",
    "                    bounds=bnds,constraints=cons)\n",
    "x = solution.x\n",
    "\n",
    "# show final objective\n",
    "print('Final Objective: ' + str(objective(x)))\n",
    "\n",
    "# print solution\n",
    "print('Solution')\n",
    "print('x1 = ' + str(x[0]))\n",
    "print('x2 = ' + str(x[1]))\n",
    "print('x3 = ' + str(x[2]))\n",
    "print('x4 = ' + str(x[3]))"
   ]
  },
  {
   "cell_type": "markdown",
   "metadata": {},
   "source": [
    "# 解非线性方程组-nonlinsolve（）"
   ]
  },
  {
   "cell_type": "code",
   "execution_count": 7,
   "metadata": {},
   "outputs": [
    {
     "data": {
      "image/png": "[encoded data removed]",
      "text/latex": [
       "$$\\left\\{\\left ( -1, \\quad 1\\right ), \\left ( -1, \\quad - \\frac{1}{2} - \\frac{\\sqrt{3} i}{2}\\right ), \\left ( -1, \\quad - \\frac{1}{2} + \\frac{\\sqrt{3} i}{2}\\right ), \\left ( 1 - i, \\quad -1 + i\\right ), \\left ( 1 + i, \\quad -1 - i\\right ), \\left ( 1 - \\frac{i \\sqrt{- 6 \\sqrt{3} + 12}}{2} - \\frac{i \\sqrt{- 2 \\sqrt{3} + 4}}{2}, \\quad \\frac{1}{2} + \\frac{\\sqrt{3}}{2} + \\frac{\\sqrt{2} \\sqrt{-2 + \\sqrt{3}}}{2}\\right ), \\left ( 1 - \\frac{\\sqrt{-12 - 6 \\sqrt{3}}}{2} + \\frac{\\sqrt{-4 - 2 \\sqrt{3}}}{2}, \\quad - \\frac{\\sqrt{3}}{2} + \\frac{1}{2} - \\frac{\\sqrt{-8 + \\left(- \\sqrt{3} + 1\\right)^{2}}}{2}\\right ), \\left ( 1 - \\frac{\\sqrt{-4 - 2 \\sqrt{3}}}{2} + \\frac{\\sqrt{-12 - 6 \\sqrt{3}}}{2}, \\quad - \\frac{\\sqrt{3}}{2} + \\frac{1}{2} + \\frac{\\sqrt{-8 + \\left(- \\sqrt{3} + 1\\right)^{2}}}{2}\\right ), \\left ( 1 + \\frac{\\sqrt{-4 + 2 \\sqrt{3}}}{2} + \\frac{\\sqrt{-12 + 6 \\sqrt{3}}}{2}, \\quad \\frac{1}{2} + \\frac{\\sqrt{3}}{2} - \\frac{\\sqrt{2} \\sqrt{-2 + \\sqrt{3}}}{2}\\right )\\right\\}$$"
      ],
      "text/plain": [
       "⎧                                                                             \n",
       "⎪                                                                             \n",
       "⎨         ⎛      1   √3⋅ⅈ⎞  ⎛      1   √3⋅ⅈ⎞                                  \n",
       "⎪(-1, 1), ⎜-1, - ─ - ────⎟, ⎜-1, - ─ + ────⎟, (1 - ⅈ, -1 + ⅈ), (1 + ⅈ, -1 - ⅈ)\n",
       "⎩         ⎝      2    2  ⎠  ⎝      2    2  ⎠                                  \n",
       "\n",
       "                                                                     ⎛        \n",
       "  ⎛        ____________       ___________                _________⎞  ⎜      __\n",
       "  ⎜    ⅈ⋅╲╱ -6⋅√3 + 12    ⅈ⋅╲╱ -2⋅√3 + 4   1   √3   √2⋅╲╱ -2 + √3 ⎟  ⎜    ╲╱ -\n",
       ", ⎜1 - ──────────────── - ───────────────, ─ + ── + ──────────────⎟, ⎜1 - ────\n",
       "  ⎝           2                  2         2   2          2       ⎠  ⎝        \n",
       "\n",
       "                                          _________________⎞  ⎛               \n",
       "__________     ___________               ╱               2 ⎟  ⎜      _________\n",
       "12 - 6⋅√3    ╲╱ -4 - 2⋅√3     √3   1   ╲╱  -8 + (-√3 + 1)  ⎟  ⎜    ╲╱ -4 - 2⋅√\n",
       "────────── + ─────────────, - ── + ─ - ────────────────────⎟, ⎜1 - ───────────\n",
       "  2                2          2    2            2          ⎠  ⎝          2    \n",
       "\n",
       "                                   _________________⎞                         \n",
       "__     ____________               ╱               2 ⎟  ⎛      ___________     \n",
       "3    ╲╱ -12 - 6⋅√3     √3   1   ╲╱  -8 + (-√3 + 1)  ⎟  ⎜    ╲╱ -4 + 2⋅√3    ╲╱\n",
       "── + ──────────────, - ── + ─ + ────────────────────⎟, ⎜1 + ───────────── + ──\n",
       "           2           2    2            2          ⎠  ⎝          2           \n",
       "\n",
       "                                      ⎫\n",
       "____________                _________⎞⎪\n",
       " -12 + 6⋅√3   1   √3   √2⋅╲╱ -2 + √3 ⎟⎬\n",
       "────────────, ─ + ── - ──────────────⎟⎪\n",
       "    2         2   2          2       ⎠⎭"
      ]
     },
     "metadata": {},
     "output_type": "display_data"
    }
   ],
   "source": [
    "\"\"\"\n",
    "    x**2+y**2-2=0\n",
    "    x**3+y**3=0\n",
    "\"\"\"\n",
    "\n",
    "import sympy as sy\n",
    "x, y = sy.symbols(\"x y\")\n",
    "\n",
    "eq = [x**2+y**3-2, x**3+y**3]\n",
    "result = sy.nonlinsolve(eq, [x, y])\n",
    "display(result)"
   ]
  },
  {
   "cell_type": "code",
   "execution_count": 10,
   "metadata": {},
   "outputs": [
    {
     "data": {
      "image/png": "[encoded data removed]",
      "text/latex": [
       "$$16$$"
      ],
      "text/plain": [
       "16"
      ]
     },
     "execution_count": 10,
     "metadata": {},
     "output_type": "execute_result"
    }
   ],
   "source": [
    "import sympy as sy\n",
    "x, y = sy.symbols(\"x y z\")\n",
    "\n",
    "eq = [x**2+y**2-z**2, x**3+y**3]\n",
    "result = sy.nonlinsolve(eq, [x, y])\n",
    "display(result)"
   ]
  }
 ],
 "metadata": {
  "kernelspec": {
   "display_name": "Python 3",
   "language": "python",
   "name": "python3"
  },
  "language_info": {
   "codemirror_mode": {
    "name": "ipython",
    "version": 3
   },
   "file_extension": ".py",
   "mimetype": "text/x-python",
   "name": "python",
   "nbconvert_exporter": "python",
   "pygments_lexer": "ipython3",
   "version": "3.7.3"
  }
 },
 "nbformat": 4,
 "nbformat_minor": 2
}
