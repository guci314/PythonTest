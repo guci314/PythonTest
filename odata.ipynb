{
 "cells": [
  {
   "cell_type": "code",
   "execution_count": 1,
   "metadata": {
    "collapsed": false
   },
   "outputs": [
    {
     "name": "stdout",
     "output_type": "stream",
     "text": [
      "{\"oids\": [{\"$oid\": \"563b25e0273ef238fb94ae96\"}]}\n"
     ]
    }
   ],
   "source": [
    "import urllib2\n",
    "#提交，发送数据\n",
    "req = urllib2.urlopen(\"http://localhost:27080/website/users/_insert\", 'docs=[{\"test\":222}]')\n",
    " \n",
    "#获取提交后返回的信息\n",
    "content = req.read()\n",
    "print content"
   ]
  },
  {
   "cell_type": "code",
   "execution_count": 2,
   "metadata": {
    "collapsed": false
   },
   "outputs": [
    {
     "name": "stdout",
     "output_type": "stream",
     "text": [
      "{\"ok\": 1, \"results\": [{\"age\": 44.0, \"_id\": {\"$oid\": \"563b1dc4e92cfcad10dec993\"}, \"name\": 11.0}, {\"age\": 454.0, \"_id\": {\"$oid\": \"563b1dcce92cfcad10dec994\"}, \"name\": 131.0}, {\"age\": 4777754.0, \"_id\": {\"$oid\": \"563b1dd3e92cfcad10dec995\"}, \"name\": 13331.0}, {\"x\": 2, \"_id\": {\"$oid\": \"563b2014273ef238fb94ae90\"}}, {\"x\": 3, \"_id\": {\"$oid\": \"563b2014273ef238fb94ae91\"}}, {\"x\": 12, \"_id\": {\"$oid\": \"563b221d273ef238fb94ae94\"}}, {\"x\": 13, \"_id\": {\"$oid\": \"563b221d273ef238fb94ae95\"}}, {\"test\": 222, \"_id\": {\"$oid\": \"563b25e0273ef238fb94ae96\"}}], \"id\": 27}\n"
     ]
    }
   ],
   "source": [
    "req = urllib2.urlopen(\"http://localhost:27080/website/users/_find\")\n",
    " \n",
    "#获取提交后返回的信息\n",
    "content = req.read()\n",
    "print content"
   ]
  }
 ],
 "metadata": {
  "hide_input": true,
  "kernelspec": {
   "display_name": "Python 2",
   "language": "python",
   "name": "python2"
  },
  "language_info": {
   "codemirror_mode": {
    "name": "ipython",
    "version": 2
   },
   "file_extension": ".py",
   "mimetype": "text/x-python",
   "name": "python",
   "nbconvert_exporter": "python",
   "pygments_lexer": "ipython2",
   "version": "2.7.10"
  }
 },
 "nbformat": 4,
 "nbformat_minor": 0
}
